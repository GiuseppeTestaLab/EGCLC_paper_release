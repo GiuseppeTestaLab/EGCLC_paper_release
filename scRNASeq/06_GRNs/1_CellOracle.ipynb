{
 "cells": [
  {
   "attachments": {},
   "cell_type": "markdown",
   "id": "e97e74e0",
   "metadata": {},
   "source": [
    "### Authors : Filippo Prazzoli, Veronica Finazzi, Alessandro Vitriolo \n",
    "### Latest Revision Date: 08/01/2025\n",
    "### License : GPL v3.0"
   ]
  },
  {
   "attachments": {},
   "cell_type": "markdown",
   "id": "a03485b8-920c-4733-92ff-a19b48772964",
   "metadata": {
    "tags": []
   },
   "source": [
    "#### CellOracle Regulatory Regions Preparation"
   ]
  },
  {
   "cell_type": "code",
   "execution_count": 2,
   "id": "b894d91b-e776-4433-810f-54026014a8df",
   "metadata": {},
   "outputs": [
    {
     "name": "stderr",
     "output_type": "stream",
     "text": [
      "2024-05-13 10:25:53.142670: I tensorflow/core/util/port.cc:113] oneDNN custom operations are on. You may see slightly different numerical results due to floating-point round-off errors from different computation orders. To turn them off, set the environment variable `TF_ENABLE_ONEDNN_OPTS=0`.\n",
      "2024-05-13 10:26:02.952244: I tensorflow/core/platform/cpu_feature_guard.cc:210] This TensorFlow binary is optimized to use available CPU instructions in performance-critical operations.\n",
      "To enable the following instructions: AVX2 AVX512F AVX512_VNNI FMA, in other operations, rebuild TensorFlow with the appropriate compiler flags.\n",
      "2024-05-13 10:26:25.514532: W tensorflow/compiler/tf2tensorrt/utils/py_utils.cc:38] TF-TRT Warning: Could not find TensorRT\n"
     ]
    },
    {
     "name": "stdout",
     "output_type": "stream",
     "text": [
      "scanpy==1.10.1 anndata==0.10.7 umap==0.5.6 numpy==1.26.4 scipy==1.13.0 pandas==1.5.3 scikit-learn==1.4.2 statsmodels==0.14.2 igraph==0.11.4 louvain==0.8.2 pynndescent==0.5.12\n"
     ]
    }
   ],
   "source": [
    "import pandas as pd\n",
    "import numpy as np\n",
    "np.random.seed(213)\n",
    "import sklearn\n",
    "import scipy\n",
    "import seaborn as sns\n",
    "import matplotlib.pyplot as plt\n",
    "import matplotlib.cm as cm\n",
    "import matplotlib.colors as mcolors\n",
    "import time\n",
    "from IPython.core.interactiveshell import InteractiveShell\n",
    "import scanpy as sc\n",
    "from collections import Counter\n",
    "from scipy.stats import spearmanr\n",
    "from itertools import chain\n",
    "\n",
    "import os\n",
    "os.chdir('')\n",
    "\n",
    "import celloracle as co\n",
    "from celloracle import motif_analysis as ma\n",
    "from celloracle.utility import save_as_pickled_object\n",
    "co.__version__\n",
    "from genomepy import Genome\n",
    "\n",
    "InteractiveShell.ast_node_interactivity = \"all\"\n",
    "\n",
    "import gc\n",
    "gc.collect()\n",
    "\n",
    "sc.settings.verbosity = 3          # verbosity: errors (0), warnings (1), info (2), hints (3)\n",
    "sc.logging.print_header()\n",
    "sc.settings.set_figure_params(dpi=150, dpi_save = 300, transparent = 'False', color_map = 'viridis')\n",
    "sns.set_style(\"darkgrid\")#, {\"axes.facecolor\": \"0.93\"})\n",
    "sns.set_palette('YlOrBr')\n",
    "sns.set_context('talk')\n",
    "\n",
    "# %matplotlib inline\n",
    "# This worked\n",
    "# scanpy==1.10.1 anndata==0.10.7 umap==0.5.6 numpy==1.26.4 scipy==1.13.0 pandas==1.5.3 scikit-learn==1.4.2 statsmodels==0.14.2 igraph==0.11.4 louvain==0.8.2 pynndescent==0.5.12"
   ]
  },
  {
   "cell_type": "code",
   "execution_count": null,
   "id": "470ff054-5d02-4461-a89c-5b08c75a91d1",
   "metadata": {},
   "outputs": [],
   "source": [
    "import genomepy\n",
    "genomepy.install_genome(name=\"hg19\", provider=\"UCSC\")\n",
    "\n",
    "ref_genome = \"hg19\""
   ]
  },
  {
   "attachments": {},
   "cell_type": "markdown",
   "id": "f03eb889-8fd8-4133-bf49-f2b4ff31e0a2",
   "metadata": {},
   "source": [
    "### Scan"
   ]
  },
  {
   "cell_type": "code",
   "execution_count": 4,
   "id": "070d88be-f8f0-49d0-b364-1bd679f900d4",
   "metadata": {},
   "outputs": [
    {
     "data": {
      "text/html": [
       "<div>\n",
       "<style scoped>\n",
       "    .dataframe tbody tr th:only-of-type {\n",
       "        vertical-align: middle;\n",
       "    }\n",
       "\n",
       "    .dataframe tbody tr th {\n",
       "        vertical-align: top;\n",
       "    }\n",
       "\n",
       "    .dataframe thead th {\n",
       "        text-align: right;\n",
       "    }\n",
       "</style>\n",
       "<table border=\"1\" class=\"dataframe\">\n",
       "  <thead>\n",
       "    <tr style=\"text-align: right;\">\n",
       "      <th></th>\n",
       "      <th>peak_id</th>\n",
       "      <th>gene_short_name</th>\n",
       "    </tr>\n",
       "  </thead>\n",
       "  <tbody>\n",
       "    <tr>\n",
       "      <th>0</th>\n",
       "      <td>chr1_100316130_100316135</td>\n",
       "      <td>AGL</td>\n",
       "    </tr>\n",
       "    <tr>\n",
       "      <th>1</th>\n",
       "      <td>chr1_230832630_230834160</td>\n",
       "      <td>AGT</td>\n",
       "    </tr>\n",
       "    <tr>\n",
       "      <th>2</th>\n",
       "      <td>chr1_115244990_115245010</td>\n",
       "      <td>AMPD1</td>\n",
       "    </tr>\n",
       "    <tr>\n",
       "      <th>3</th>\n",
       "      <td>chr1_201082420_201082440</td>\n",
       "      <td>CACNA1S</td>\n",
       "    </tr>\n",
       "    <tr>\n",
       "      <th>4</th>\n",
       "      <td>chr1_236029900_236030690</td>\n",
       "      <td>LYST</td>\n",
       "    </tr>\n",
       "    <tr>\n",
       "      <th>...</th>\n",
       "      <td>...</td>\n",
       "      <td>...</td>\n",
       "    </tr>\n",
       "    <tr>\n",
       "      <th>483700</th>\n",
       "      <td>chrY_22737401_22739401</td>\n",
       "      <td>EIF1AY</td>\n",
       "    </tr>\n",
       "    <tr>\n",
       "      <th>483701</th>\n",
       "      <td>chrY_22747604_22749604</td>\n",
       "      <td>EIF1AY</td>\n",
       "    </tr>\n",
       "    <tr>\n",
       "      <th>483702</th>\n",
       "      <td>chrY_58971801_58973801</td>\n",
       "      <td>SPRY3</td>\n",
       "    </tr>\n",
       "    <tr>\n",
       "      <th>483703</th>\n",
       "      <td>chrY_58978201_58980201</td>\n",
       "      <td>SPRY3</td>\n",
       "    </tr>\n",
       "    <tr>\n",
       "      <th>483704</th>\n",
       "      <td>chrY_58984401_58986401</td>\n",
       "      <td>SPRY3</td>\n",
       "    </tr>\n",
       "  </tbody>\n",
       "</table>\n",
       "<p>483705 rows × 2 columns</p>\n",
       "</div>"
      ],
      "text/plain": [
       "                         peak_id gene_short_name\n",
       "0       chr1_100316130_100316135             AGL\n",
       "1       chr1_230832630_230834160             AGT\n",
       "2       chr1_115244990_115245010           AMPD1\n",
       "3       chr1_201082420_201082440         CACNA1S\n",
       "4       chr1_236029900_236030690            LYST\n",
       "...                          ...             ...\n",
       "483700    chrY_22737401_22739401          EIF1AY\n",
       "483701    chrY_22747604_22749604          EIF1AY\n",
       "483702    chrY_58971801_58973801           SPRY3\n",
       "483703    chrY_58978201_58980201           SPRY3\n",
       "483704    chrY_58984401_58986401           SPRY3\n",
       "\n",
       "[483705 rows x 2 columns]"
      ]
     },
     "execution_count": 4,
     "metadata": {},
     "output_type": "execute_result"
    }
   ],
   "source": [
    "# chr1 start1 end1 chr2 start2 end2 co-access scores pvalues counts ...\n",
    "# annotate peak1 and peak2 (prom - intron - exon ...)\n",
    "# whem you have ATAC data, \n",
    "    # introns covered ATAC counts\n",
    "    # if >= 50% reads within intron : distal/enhancer regions\n",
    "    # if >= 50% shared with exons : splicing junctions\n",
    "\n",
    "# th 0.6 0.8\n",
    "# distribution\n",
    "# 0.4 0.5\n",
    "# -> functional interactions\n",
    "# != physical\n",
    "\n",
    "# keep peaks that are putative regulatory regions co-accessible with known promoters\n",
    "# GFF : cellRanger -> certain genome reference -> get your promoters from there\n",
    "\n",
    "peak_df = pd.read_csv(\"combined_aggregated_results.4Dh1esc.bed\", index_col=None,sep='\\t').loc[:,['name','gene']]\n",
    "peak_df.columns = ['peak_id','gene_short_name']\n",
    "peak_df"
   ]
  },
  {
   "cell_type": "code",
   "execution_count": 5,
   "id": "b314df24-53d8-4e75-a90c-2a4d26237832",
   "metadata": {},
   "outputs": [],
   "source": [
    "# check data\n",
    "def decompose_chrstr(peak_str):\n",
    "    \"\"\"\n",
    "    Args:\n",
    "        peak_str (str): peak_str. e.g. 'chr1_3094484_3095479'\n",
    "        \n",
    "    Returns:\n",
    "        tuple: chromosome name, start position, end position\n",
    "    \"\"\"\n",
    "    \n",
    "    *chr_, start, end = peak_str.split(\"_\")\n",
    "    chr_ = \"_\".join(chr_)\n",
    "    return chr_, start, end\n",
    "\n",
    "from genomepy import Genome\n",
    "\n",
    "def check_peak_format(peaks_df, ref_genome):\n",
    "    \"\"\"\n",
    "    Check peak format. \n",
    "     (1) Check chromosome name. \n",
    "     (2) Check peak size (length) and remove short DNA sequences (<5bp)\n",
    "    \n",
    "    \"\"\"\n",
    "    \n",
    "    df = peaks_df.copy()\n",
    "    \n",
    "    n_peaks_before = df.shape[0]\n",
    "    \n",
    "    # Decompose peaks and make df\n",
    "    decomposed = [decompose_chrstr(peak_str) for peak_str in df[\"peak_id\"]]\n",
    "    df_decomposed = pd.DataFrame(np.array(decomposed), index=peaks_df.index)\n",
    "    df_decomposed.columns = [\"chr\", \"start\", \"end\"]\n",
    "    df_decomposed[\"start\"] = df_decomposed[\"start\"].astype(int)\n",
    "    df_decomposed[\"end\"] = df_decomposed[\"end\"].astype(int)\n",
    "    \n",
    "    # Load genome data\n",
    "    genome_data = Genome(ref_genome)\n",
    "    all_chr_list = list(genome_data.keys())\n",
    "    \n",
    "    \n",
    "    # DNA length check\n",
    "    lengths = np.abs(df_decomposed[\"end\"] - df_decomposed[\"start\"])\n",
    "\n",
    "    # Filter peaks with invalid chromosome name and small size\n",
    "    n_threshold = 5\n",
    "    df = df[(lengths >= n_threshold) & df_decomposed.chr.isin(all_chr_list)]\n",
    "    \n",
    "    # DNA length check\n",
    "    lengths = np.abs(df_decomposed[\"end\"] - df_decomposed[\"start\"])\n",
    "    \n",
    "    # Data counting\n",
    "    n_invalid_length = len(lengths[lengths < n_threshold])\n",
    "    n_peaks_invalid_chr = n_peaks_before - df_decomposed.chr.isin(all_chr_list).sum()\n",
    "    n_peaks_after = df.shape[0]\n",
    "    \n",
    "    \n",
    "    #\n",
    "    print(\"Peaks before filtering: \", n_peaks_before)\n",
    "    print(\"Peaks with invalid chr_name: \", n_peaks_invalid_chr)\n",
    "    print(\"Peaks with invalid length: \", n_invalid_length)\n",
    "    print(\"Peaks after filtering: \", n_peaks_after)\n",
    "    \n",
    "    return df"
   ]
  },
  {
   "cell_type": "code",
   "execution_count": 6,
   "id": "3f9d5e88-0138-41b2-9509-57fa0e99ec53",
   "metadata": {},
   "outputs": [
    {
     "name": "stdout",
     "output_type": "stream",
     "text": [
      "Peaks before filtering:  483705\n",
      "Peaks with invalid chr_name:  0\n",
      "Peaks with invalid length:  0\n",
      "Peaks after filtering:  483705\n"
     ]
    }
   ],
   "source": [
    "peak_df = check_peak_format(peak_df, ref_genome)"
   ]
  },
  {
   "cell_type": "code",
   "execution_count": 7,
   "id": "b11f14d2-da0d-4b19-9424-61fcd6f3eb73",
   "metadata": {},
   "outputs": [],
   "source": [
    "decomposed = [decompose_chrstr(peak_str) for peak_str in peak_df[\"peak_id\"]]\n",
    "df_decomposed = pd.DataFrame(np.array(decomposed), index=peak_df.index)\n",
    "df_decomposed.columns = [\"chr\", \"start\", \"end\"]\n",
    "df_decomposed[\"start\"] = df_decomposed[\"start\"].astype(int)\n",
    "df_decomposed[\"end\"] = df_decomposed[\"end\"].astype(int)"
   ]
  },
  {
   "cell_type": "code",
   "execution_count": 8,
   "id": "c0734c75-a0bf-4bac-aa34-43b2533c2479",
   "metadata": {},
   "outputs": [],
   "source": [
    "df_decomposed['length'] = df_decomposed.end - df_decomposed.start"
   ]
  },
  {
   "cell_type": "code",
   "execution_count": 9,
   "id": "433f67e8-24d2-4fc3-aa1d-42ee687a0983",
   "metadata": {},
   "outputs": [
    {
     "data": {
      "text/plain": [
       "<AxesSubplot: xlabel='length', ylabel='Count'>"
      ]
     },
     "execution_count": 9,
     "metadata": {},
     "output_type": "execute_result"
    }
   ],
   "source": [
    "sns.histplot(df_decomposed.length, color='darkred', edgecolor = 'darkred', alpha = 0.9, binwidth=30)"
   ]
  },
  {
   "cell_type": "code",
   "execution_count": 10,
   "id": "03d09e3f-4ed3-4a98-b088-5691682a78e6",
   "metadata": {},
   "outputs": [
    {
     "data": {
      "text/plain": [
       "(228424, 2)"
      ]
     },
     "execution_count": 10,
     "metadata": {},
     "output_type": "execute_result"
    }
   ],
   "source": [
    "peak_df_filt = peak_df[(df_decomposed.length > 150) & (df_decomposed.length < 5000)]\n",
    "peak_df_filt.shape"
   ]
  },
  {
   "cell_type": "code",
   "execution_count": 11,
   "id": "64d26abb",
   "metadata": {},
   "outputs": [],
   "source": [
    "%matplotlib inline"
   ]
  },
  {
   "cell_type": "code",
   "execution_count": 30,
   "id": "1a8b3517",
   "metadata": {},
   "outputs": [
    {
     "data": {
      "text/plain": [
       "<BarContainer object of 1 artists>"
      ]
     },
     "execution_count": 30,
     "metadata": {},
     "output_type": "execute_result"
    },
    {
     "data": {
      "text/plain": [
       "<BarContainer object of 1 artists>"
      ]
     },
     "execution_count": 30,
     "metadata": {},
     "output_type": "execute_result"
    },
    {
     "data": {
      "text/plain": [
       "([<matplotlib.axis.XTick at 0x15548f163ee0>,\n",
       "  <matplotlib.axis.XTick at 0x15548f163eb0>],\n",
       " [Text(0.0, 0, 'Unfiltered'), Text(0.15, 0, 'Filtered')])"
      ]
     },
     "execution_count": 30,
     "metadata": {},
     "output_type": "execute_result"
    },
    {
     "data": {
      "text/plain": [
       "Text(0.5, 0, 'Data')"
      ]
     },
     "execution_count": 30,
     "metadata": {},
     "output_type": "execute_result"
    },
    {
     "data": {
      "text/plain": [
       "Text(0, 0.5, 'Number of peaks')"
      ]
     },
     "execution_count": 30,
     "metadata": {},
     "output_type": "execute_result"
    },
    {
     "data": {
      "text/plain": [
       "(array([     0., 100000., 200000., 300000., 400000., 500000., 600000.]),\n",
       " [Text(0, 0.0, '0'),\n",
       "  Text(0, 100000.0, '100000'),\n",
       "  Text(0, 200000.0, '200000'),\n",
       "  Text(0, 300000.0, '300000'),\n",
       "  Text(0, 400000.0, '400000'),\n",
       "  Text(0, 500000.0, '500000'),\n",
       "  Text(0, 600000.0, '600000')])"
      ]
     },
     "execution_count": 30,
     "metadata": {},
     "output_type": "execute_result"
    },
    {
     "data": {
      "image/png": "[encoded data removed]",
      "text/plain": [
       "<Figure size 600x600 with 1 Axes>"
      ]
     },
     "metadata": {},
     "output_type": "display_data"
    }
   ],
   "source": [
    "len_unfilt = len(peak_df)\n",
    "len_filt = len(peak_df_filt)\n",
    "\n",
    "x = ['Unfiltered', 'Filtered']\n",
    "position_bars = range(len(x))\n",
    "\n",
    "bar_width = 0.06\n",
    "\n",
    "plt.bar(0, len_unfilt, width=bar_width, color='cornflowerblue')\n",
    "plt.bar(0.15, len_filt, width=bar_width, color='cornflowerblue')\n",
    "\n",
    "plt.xticks([0, 0.15], x, fontsize=8)\n",
    "\n",
    "\n",
    "plt.xlabel('Data', fontsize=12)\n",
    "plt.ylabel('Number of peaks', fontsize=12)\n",
    "\n",
    "plt.yticks(fontsize=6)\n",
    "\n",
    "plt.show()"
   ]
  },
  {
   "cell_type": "code",
   "execution_count": 12,
   "id": "ad0987a6-b7c1-4aeb-88f9-8f25bc8b19c5",
   "metadata": {},
   "outputs": [],
   "source": [
    "peak_df_filt.to_csv(\"PeakDF2Celloracle.bed\", index = False)"
   ]
  },
  {
   "cell_type": "code",
   "execution_count": 38,
   "id": "4d87c348-3d6e-4a21-9b2b-e4fb78850cf0",
   "metadata": {},
   "outputs": [],
   "source": [
    "peak_df_filt = pd.read_csv(\"PeakDF2Celloracle.bed\")"
   ]
  },
  {
   "cell_type": "code",
   "execution_count": 10,
   "id": "a34fae80-e823-4bae-8432-a75fc408508b",
   "metadata": {},
   "outputs": [
    {
     "data": {
      "text/html": [
       "<div>\n",
       "<style scoped>\n",
       "    .dataframe tbody tr th:only-of-type {\n",
       "        vertical-align: middle;\n",
       "    }\n",
       "\n",
       "    .dataframe tbody tr th {\n",
       "        vertical-align: top;\n",
       "    }\n",
       "\n",
       "    .dataframe thead th {\n",
       "        text-align: right;\n",
       "    }\n",
       "</style>\n",
       "<table border=\"1\" class=\"dataframe\">\n",
       "  <thead>\n",
       "    <tr style=\"text-align: right;\">\n",
       "      <th></th>\n",
       "      <th>peak_id</th>\n",
       "      <th>gene_short_name</th>\n",
       "    </tr>\n",
       "  </thead>\n",
       "  <tbody>\n",
       "    <tr>\n",
       "      <th>1</th>\n",
       "      <td>chr1_230832630_230834160</td>\n",
       "      <td>AGT</td>\n",
       "    </tr>\n",
       "    <tr>\n",
       "      <th>4</th>\n",
       "      <td>chr1_236029900_236030690</td>\n",
       "      <td>LYST</td>\n",
       "    </tr>\n",
       "    <tr>\n",
       "      <th>9</th>\n",
       "      <td>chr1_169555430_169556305</td>\n",
       "      <td>F5</td>\n",
       "    </tr>\n",
       "    <tr>\n",
       "      <th>11</th>\n",
       "      <td>chr1_24194620_24195030</td>\n",
       "      <td>FUCA1</td>\n",
       "    </tr>\n",
       "    <tr>\n",
       "      <th>14</th>\n",
       "      <td>chr1_24151595_24152015</td>\n",
       "      <td>HMGCL</td>\n",
       "    </tr>\n",
       "    <tr>\n",
       "      <th>...</th>\n",
       "      <td>...</td>\n",
       "      <td>...</td>\n",
       "    </tr>\n",
       "    <tr>\n",
       "      <th>483700</th>\n",
       "      <td>chrY_22737401_22739401</td>\n",
       "      <td>EIF1AY</td>\n",
       "    </tr>\n",
       "    <tr>\n",
       "      <th>483701</th>\n",
       "      <td>chrY_22747604_22749604</td>\n",
       "      <td>EIF1AY</td>\n",
       "    </tr>\n",
       "    <tr>\n",
       "      <th>483702</th>\n",
       "      <td>chrY_58971801_58973801</td>\n",
       "      <td>SPRY3</td>\n",
       "    </tr>\n",
       "    <tr>\n",
       "      <th>483703</th>\n",
       "      <td>chrY_58978201_58980201</td>\n",
       "      <td>SPRY3</td>\n",
       "    </tr>\n",
       "    <tr>\n",
       "      <th>483704</th>\n",
       "      <td>chrY_58984401_58986401</td>\n",
       "      <td>SPRY3</td>\n",
       "    </tr>\n",
       "  </tbody>\n",
       "</table>\n",
       "<p>228424 rows × 2 columns</p>\n",
       "</div>"
      ],
      "text/plain": [
       "                         peak_id gene_short_name\n",
       "1       chr1_230832630_230834160             AGT\n",
       "4       chr1_236029900_236030690            LYST\n",
       "9       chr1_169555430_169556305              F5\n",
       "11        chr1_24194620_24195030           FUCA1\n",
       "14        chr1_24151595_24152015           HMGCL\n",
       "...                          ...             ...\n",
       "483700    chrY_22737401_22739401          EIF1AY\n",
       "483701    chrY_22747604_22749604          EIF1AY\n",
       "483702    chrY_58971801_58973801           SPRY3\n",
       "483703    chrY_58978201_58980201           SPRY3\n",
       "483704    chrY_58984401_58986401           SPRY3\n",
       "\n",
       "[228424 rows x 2 columns]"
      ]
     },
     "execution_count": 10,
     "metadata": {},
     "output_type": "execute_result"
    }
   ],
   "source": [
    "peak_df_filt"
   ]
  },
  {
   "cell_type": "code",
   "execution_count": 11,
   "id": "dd1e1ffc-b619-491d-bf7e-979e31a5e3d4",
   "metadata": {},
   "outputs": [
    {
     "name": "stdout",
     "output_type": "stream",
     "text": [
      "No motif data entered. Loading default motifs for your species ...\n",
      " Default motif for vertebrate: gimme.vertebrate.v5.0. \n",
      " For more information, please see https://gimmemotifs.readthedocs.io/en/master/overview.html \n",
      "\n",
      "Initiating scanner... \n",
      "\n"
     ]
    },
    {
     "name": "stderr",
     "output_type": "stream",
     "text": [
      "2024-05-06 10:37:34,392 - DEBUG - using background: genome hg19 with size 200\n"
     ]
    },
    {
     "name": "stdout",
     "output_type": "stream",
     "text": [
      "Calculating FPR-based threshold. This step may take substantial time when you load a new ref-genome. It will be done quicker on the second time. \n",
      "\n",
      "Motif scan started .. It may take long time.\n",
      "\n"
     ]
    },
    {
     "data": {
      "application/vnd.jupyter.widget-view+json": {
       "model_id": "d8f5d86ede084da884a105b4c509dc98",
       "version_major": 2,
       "version_minor": 0
      },
      "text/plain": [
       "Scanning:   0%|          | 0/173547 [00:00<?, ? sequences/s]"
      ]
     },
     "metadata": {},
     "output_type": "display_data"
    },
    {
     "data": {
      "text/html": [
       "<div>\n",
       "<style scoped>\n",
       "    .dataframe tbody tr th:only-of-type {\n",
       "        vertical-align: middle;\n",
       "    }\n",
       "\n",
       "    .dataframe tbody tr th {\n",
       "        vertical-align: top;\n",
       "    }\n",
       "\n",
       "    .dataframe thead th {\n",
       "        text-align: right;\n",
       "    }\n",
       "</style>\n",
       "<table border=\"1\" class=\"dataframe\">\n",
       "  <thead>\n",
       "    <tr style=\"text-align: right;\">\n",
       "      <th></th>\n",
       "      <th>seqname</th>\n",
       "      <th>motif_id</th>\n",
       "      <th>factors_direct</th>\n",
       "      <th>factors_indirect</th>\n",
       "      <th>score</th>\n",
       "      <th>pos</th>\n",
       "      <th>strand</th>\n",
       "    </tr>\n",
       "  </thead>\n",
       "  <tbody>\n",
       "    <tr>\n",
       "      <th>0</th>\n",
       "      <td>chr10_100027007_100029007</td>\n",
       "      <td>GM.5.0.Mixed.0001</td>\n",
       "      <td></td>\n",
       "      <td>SRF, EGR1</td>\n",
       "      <td>8.491542</td>\n",
       "      <td>1154</td>\n",
       "      <td>1</td>\n",
       "    </tr>\n",
       "    <tr>\n",
       "      <th>1</th>\n",
       "      <td>chr10_100027007_100029007</td>\n",
       "      <td>GM.5.0.Mixed.0001</td>\n",
       "      <td></td>\n",
       "      <td>SRF, EGR1</td>\n",
       "      <td>8.369501</td>\n",
       "      <td>1549</td>\n",
       "      <td>-1</td>\n",
       "    </tr>\n",
       "    <tr>\n",
       "      <th>2</th>\n",
       "      <td>chr10_100027007_100029007</td>\n",
       "      <td>GM.5.0.Mixed.0001</td>\n",
       "      <td></td>\n",
       "      <td>SRF, EGR1</td>\n",
       "      <td>8.280041</td>\n",
       "      <td>1550</td>\n",
       "      <td>-1</td>\n",
       "    </tr>\n",
       "    <tr>\n",
       "      <th>3</th>\n",
       "      <td>chr10_100027007_100029007</td>\n",
       "      <td>GM.5.0.Mixed.0001</td>\n",
       "      <td></td>\n",
       "      <td>SRF, EGR1</td>\n",
       "      <td>8.280041</td>\n",
       "      <td>1551</td>\n",
       "      <td>-1</td>\n",
       "    </tr>\n",
       "    <tr>\n",
       "      <th>4</th>\n",
       "      <td>chr10_100027007_100029007</td>\n",
       "      <td>GM.5.0.Mixed.0001</td>\n",
       "      <td></td>\n",
       "      <td>SRF, EGR1</td>\n",
       "      <td>8.280041</td>\n",
       "      <td>1552</td>\n",
       "      <td>-1</td>\n",
       "    </tr>\n",
       "  </tbody>\n",
       "</table>\n",
       "</div>"
      ],
      "text/plain": [
       "                     seqname           motif_id factors_direct  \\\n",
       "0  chr10_100027007_100029007  GM.5.0.Mixed.0001                  \n",
       "1  chr10_100027007_100029007  GM.5.0.Mixed.0001                  \n",
       "2  chr10_100027007_100029007  GM.5.0.Mixed.0001                  \n",
       "3  chr10_100027007_100029007  GM.5.0.Mixed.0001                  \n",
       "4  chr10_100027007_100029007  GM.5.0.Mixed.0001                  \n",
       "\n",
       "  factors_indirect     score   pos  strand  \n",
       "0        SRF, EGR1  8.491542  1154       1  \n",
       "1        SRF, EGR1  8.369501  1549      -1  \n",
       "2        SRF, EGR1  8.280041  1550      -1  \n",
       "3        SRF, EGR1  8.280041  1551      -1  \n",
       "4        SRF, EGR1  8.280041  1552      -1  "
      ]
     },
     "execution_count": 11,
     "metadata": {},
     "output_type": "execute_result"
    }
   ],
   "source": [
    "tfi = ma.TFinfo(peak_data_frame=peak_df_filt, \n",
    "                ref_genome=ref_genome) \n",
    "\n",
    "\n",
    "# Scan motifs. !!CAUTION!! This step may take several hours if you have many peaks!\n",
    "          #TF1 #TF2 #TF3 ...\n",
    "#peak1     0.00\n",
    "#peak2     0.1\n",
    "#peak3     1 \n",
    "#...\n",
    "\n",
    "# \n",
    "tfi.scan(fpr=0.02, \n",
    "         motifs=None,  # default motifs will be loaded. For human: gimme.vertebrate.v5.0. https://gimmemotifs.readthedocs.io/en/master/overview.html \n",
    "         verbose=True)\n",
    "# --motifs None\n",
    "# --thread\n",
    "# Save tfinfo object\n",
    "\n",
    "# Check motif scan results\n",
    "tfi.scanned_df.head()"
   ]
  },
  {
   "cell_type": "code",
   "execution_count": 13,
   "id": "eb46a23c-b506-4f3d-b4d0-61501c957fcf",
   "metadata": {},
   "outputs": [],
   "source": [
    "tfi.to_hdf5(file_path=\"20240124_tfi.celloracle.tfinfo\")"
   ]
  },
  {
   "cell_type": "code",
   "execution_count": 14,
   "id": "471d5763-0677-4a1e-a4f4-209e9615dfbe",
   "metadata": {},
   "outputs": [
    {
     "name": "stdout",
     "output_type": "stream",
     "text": [
      "Filtering finished: 105803910 -> 22913834\n",
      "1. Converting scanned results into one-hot encoded dataframe.\n"
     ]
    },
    {
     "data": {
      "application/vnd.jupyter.widget-view+json": {
       "model_id": "0aa910e43551457db0eef56394be534e",
       "version_major": 2,
       "version_minor": 0
      },
      "text/plain": [
       "  0%|          | 0/173515 [00:00<?, ?it/s]"
      ]
     },
     "metadata": {},
     "output_type": "display_data"
    },
    {
     "name": "stdout",
     "output_type": "stream",
     "text": [
      "2. Converting results into dictionaries.\n"
     ]
    },
    {
     "data": {
      "application/vnd.jupyter.widget-view+json": {
       "model_id": "8737e3ba6fd94fe1ae8fc07306069fb2",
       "version_major": 2,
       "version_minor": 0
      },
      "text/plain": [
       "  0%|          | 0/21595 [00:00<?, ?it/s]"
      ]
     },
     "metadata": {},
     "output_type": "display_data"
    },
    {
     "data": {
      "application/vnd.jupyter.widget-view+json": {
       "model_id": "c875b8827ec64e7a85fa349159f65d0e",
       "version_major": 2,
       "version_minor": 0
      },
      "text/plain": [
       "  0%|          | 0/1094 [00:00<?, ?it/s]"
      ]
     },
     "metadata": {},
     "output_type": "display_data"
    },
    {
     "data": {
      "text/html": [
       "<div>\n",
       "<style scoped>\n",
       "    .dataframe tbody tr th:only-of-type {\n",
       "        vertical-align: middle;\n",
       "    }\n",
       "\n",
       "    .dataframe tbody tr th {\n",
       "        vertical-align: top;\n",
       "    }\n",
       "\n",
       "    .dataframe thead th {\n",
       "        text-align: right;\n",
       "    }\n",
       "</style>\n",
       "<table border=\"1\" class=\"dataframe\">\n",
       "  <thead>\n",
       "    <tr style=\"text-align: right;\">\n",
       "      <th></th>\n",
       "      <th>peak_id</th>\n",
       "      <th>gene_short_name</th>\n",
       "      <th>9430076C15RIK</th>\n",
       "      <th>AC002126.6</th>\n",
       "      <th>AC012531.1</th>\n",
       "      <th>AC226150.2</th>\n",
       "      <th>AFP</th>\n",
       "      <th>AHR</th>\n",
       "      <th>AHRR</th>\n",
       "      <th>AIRE</th>\n",
       "      <th>...</th>\n",
       "      <th>ZNF784</th>\n",
       "      <th>ZNF8</th>\n",
       "      <th>ZNF816</th>\n",
       "      <th>ZNF85</th>\n",
       "      <th>ZSCAN10</th>\n",
       "      <th>ZSCAN16</th>\n",
       "      <th>ZSCAN22</th>\n",
       "      <th>ZSCAN26</th>\n",
       "      <th>ZSCAN31</th>\n",
       "      <th>ZSCAN4</th>\n",
       "    </tr>\n",
       "  </thead>\n",
       "  <tbody>\n",
       "    <tr>\n",
       "      <th>0</th>\n",
       "      <td>chr10_100027007_100029007</td>\n",
       "      <td>AVPI1</td>\n",
       "      <td>0.0</td>\n",
       "      <td>0.0</td>\n",
       "      <td>0.0</td>\n",
       "      <td>0.0</td>\n",
       "      <td>0.0</td>\n",
       "      <td>0.0</td>\n",
       "      <td>0.0</td>\n",
       "      <td>0.0</td>\n",
       "      <td>...</td>\n",
       "      <td>0.0</td>\n",
       "      <td>0.0</td>\n",
       "      <td>1.0</td>\n",
       "      <td>0.0</td>\n",
       "      <td>0.0</td>\n",
       "      <td>0.0</td>\n",
       "      <td>0.0</td>\n",
       "      <td>0.0</td>\n",
       "      <td>0.0</td>\n",
       "      <td>0.0</td>\n",
       "    </tr>\n",
       "    <tr>\n",
       "      <th>1</th>\n",
       "      <td>chr10_100027007_100029007</td>\n",
       "      <td>MORN4</td>\n",
       "      <td>0.0</td>\n",
       "      <td>0.0</td>\n",
       "      <td>0.0</td>\n",
       "      <td>0.0</td>\n",
       "      <td>0.0</td>\n",
       "      <td>0.0</td>\n",
       "      <td>0.0</td>\n",
       "      <td>0.0</td>\n",
       "      <td>...</td>\n",
       "      <td>0.0</td>\n",
       "      <td>0.0</td>\n",
       "      <td>1.0</td>\n",
       "      <td>0.0</td>\n",
       "      <td>0.0</td>\n",
       "      <td>0.0</td>\n",
       "      <td>0.0</td>\n",
       "      <td>0.0</td>\n",
       "      <td>0.0</td>\n",
       "      <td>0.0</td>\n",
       "    </tr>\n",
       "    <tr>\n",
       "      <th>2</th>\n",
       "      <td>chr10_100027007_100029007</td>\n",
       "      <td>PI4K2A</td>\n",
       "      <td>0.0</td>\n",
       "      <td>0.0</td>\n",
       "      <td>0.0</td>\n",
       "      <td>0.0</td>\n",
       "      <td>0.0</td>\n",
       "      <td>0.0</td>\n",
       "      <td>0.0</td>\n",
       "      <td>0.0</td>\n",
       "      <td>...</td>\n",
       "      <td>0.0</td>\n",
       "      <td>0.0</td>\n",
       "      <td>1.0</td>\n",
       "      <td>0.0</td>\n",
       "      <td>0.0</td>\n",
       "      <td>0.0</td>\n",
       "      <td>0.0</td>\n",
       "      <td>0.0</td>\n",
       "      <td>0.0</td>\n",
       "      <td>0.0</td>\n",
       "    </tr>\n",
       "    <tr>\n",
       "      <th>3</th>\n",
       "      <td>chr10_100170634_100172634</td>\n",
       "      <td>HPS1</td>\n",
       "      <td>0.0</td>\n",
       "      <td>1.0</td>\n",
       "      <td>1.0</td>\n",
       "      <td>0.0</td>\n",
       "      <td>0.0</td>\n",
       "      <td>0.0</td>\n",
       "      <td>0.0</td>\n",
       "      <td>0.0</td>\n",
       "      <td>...</td>\n",
       "      <td>0.0</td>\n",
       "      <td>0.0</td>\n",
       "      <td>1.0</td>\n",
       "      <td>0.0</td>\n",
       "      <td>0.0</td>\n",
       "      <td>0.0</td>\n",
       "      <td>0.0</td>\n",
       "      <td>0.0</td>\n",
       "      <td>0.0</td>\n",
       "      <td>0.0</td>\n",
       "    </tr>\n",
       "    <tr>\n",
       "      <th>4</th>\n",
       "      <td>chr10_100170634_100172634</td>\n",
       "      <td>HPSE2</td>\n",
       "      <td>0.0</td>\n",
       "      <td>1.0</td>\n",
       "      <td>1.0</td>\n",
       "      <td>0.0</td>\n",
       "      <td>0.0</td>\n",
       "      <td>0.0</td>\n",
       "      <td>0.0</td>\n",
       "      <td>0.0</td>\n",
       "      <td>...</td>\n",
       "      <td>0.0</td>\n",
       "      <td>0.0</td>\n",
       "      <td>1.0</td>\n",
       "      <td>0.0</td>\n",
       "      <td>0.0</td>\n",
       "      <td>0.0</td>\n",
       "      <td>0.0</td>\n",
       "      <td>0.0</td>\n",
       "      <td>0.0</td>\n",
       "      <td>0.0</td>\n",
       "    </tr>\n",
       "  </tbody>\n",
       "</table>\n",
       "<p>5 rows × 1096 columns</p>\n",
       "</div>"
      ],
      "text/plain": [
       "                     peak_id gene_short_name  9430076C15RIK  AC002126.6  \\\n",
       "0  chr10_100027007_100029007           AVPI1            0.0         0.0   \n",
       "1  chr10_100027007_100029007           MORN4            0.0         0.0   \n",
       "2  chr10_100027007_100029007          PI4K2A            0.0         0.0   \n",
       "3  chr10_100170634_100172634            HPS1            0.0         1.0   \n",
       "4  chr10_100170634_100172634           HPSE2            0.0         1.0   \n",
       "\n",
       "   AC012531.1  AC226150.2  AFP  AHR  AHRR  AIRE  ...  ZNF784  ZNF8  ZNF816  \\\n",
       "0         0.0         0.0  0.0  0.0   0.0   0.0  ...     0.0   0.0     1.0   \n",
       "1         0.0         0.0  0.0  0.0   0.0   0.0  ...     0.0   0.0     1.0   \n",
       "2         0.0         0.0  0.0  0.0   0.0   0.0  ...     0.0   0.0     1.0   \n",
       "3         1.0         0.0  0.0  0.0   0.0   0.0  ...     0.0   0.0     1.0   \n",
       "4         1.0         0.0  0.0  0.0   0.0   0.0  ...     0.0   0.0     1.0   \n",
       "\n",
       "   ZNF85  ZSCAN10  ZSCAN16  ZSCAN22  ZSCAN26  ZSCAN31  ZSCAN4  \n",
       "0    0.0      0.0      0.0      0.0      0.0      0.0     0.0  \n",
       "1    0.0      0.0      0.0      0.0      0.0      0.0     0.0  \n",
       "2    0.0      0.0      0.0      0.0      0.0      0.0     0.0  \n",
       "3    0.0      0.0      0.0      0.0      0.0      0.0     0.0  \n",
       "4    0.0      0.0      0.0      0.0      0.0      0.0     0.0  \n",
       "\n",
       "[5 rows x 1096 columns]"
      ]
     },
     "execution_count": 14,
     "metadata": {},
     "output_type": "execute_result"
    }
   ],
   "source": [
    "# Reset filtering \n",
    "tfi.reset_filtering()\n",
    "\n",
    "# Do filtering\n",
    "tfi.filter_motifs_by_score(threshold=10)\n",
    "\n",
    "# Format post-filtering results.\n",
    "tfi.make_TFinfo_dataframe_and_dictionary(verbose=True)\n",
    "\n",
    "df = tfi.to_dataframe()\n",
    "df.head()\n",
    "df.to_parquet(\"20240124_tfi.celloracle.parquet\")"
   ]
  },
  {
   "cell_type": "code",
   "execution_count": 15,
   "id": "242bcb27-de38-4e6e-a3c3-4fb71c501c3d",
   "metadata": {},
   "outputs": [
    {
     "data": {
      "text/plain": [
       "20"
      ]
     },
     "execution_count": 15,
     "metadata": {},
     "output_type": "execute_result"
    }
   ],
   "source": [
    "gc.collect()"
   ]
  }
 ],
 "metadata": {
  "kernelspec": {
   "display_name": "Python 3",
   "language": "python",
   "name": "python3"
  },
  "language_info": {
   "codemirror_mode": {
    "name": "ipython",
    "version": 3
   },
   "file_extension": ".py",
   "mimetype": "text/x-python",
   "name": "python",
   "nbconvert_exporter": "python",
   "pygments_lexer": "ipython3",
   "version": "3.10.14"
  }
 },
 "nbformat": 4,
 "nbformat_minor": 5
}
